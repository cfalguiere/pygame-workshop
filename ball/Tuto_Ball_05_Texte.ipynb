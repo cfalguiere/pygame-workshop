{
 "cells": [
  {
   "cell_type": "markdown",
   "metadata": {},
   "source": [
    "# 05 - Afficher les instructions"
   ]
  },
  {
   "cell_type": "markdown",
   "metadata": {},
   "source": [
    "Pour que le joueur comprenne ce qu'il doit faire il faut afficher les instructions.\n",
    "\n",
    "Nous allons ajouter un texte dans le programme précédent."
   ]
  },
  {
   "cell_type": "markdown",
   "metadata": {},
   "source": [
    "## Présentation du programme"
   ]
  },
  {
   "cell_type": "code",
   "execution_count": null,
   "metadata": {
    "collapsed": true
   },
   "outputs": [],
   "source": [
    "# Afficher les instructions\n",
    "\n",
    "import sys, pygame\n",
    "\n",
    "# défini le canvas d'affichage\n",
    "pygame.init()\n",
    "width = 320\n",
    "height = 240\n",
    "window_size = ( width, height )\n",
    "color_black = ( 0, 0, 0 )\n",
    "screen = pygame.display.set_mode(window_size)\n",
    "\n",
    "# charge l'image de la balle\n",
    "ball = pygame.image.load(\"ball.bmp\")\n",
    "ballrect = ball.get_rect()\n"
   ]
  },
  {
   "cell_type": "markdown",
   "metadata": {},
   "source": [
    "On rajoute une couleur pour l'affichage du texte"
   ]
  },
  {
   "cell_type": "code",
   "execution_count": null,
   "metadata": {
    "collapsed": true
   },
   "outputs": [],
   "source": [
    "color_red   = ( 255, 0, 0)"
   ]
  },
  {
   "cell_type": "markdown",
   "metadata": {},
   "source": [
    "Les objets font (ou fontes en français) définissent la faàon d'écrire des lettres, c'est à dire la police de caractère et la taille des caractères.\n",
    "\n",
    "Il existe plusieurs polices de caractères, plus ou moins rondes ou anguleuses, manga ou en bulle. \n",
    "\n",
    "Le module des font nécessite d'être initialisé. Lors de cette opération il va demander à la machine les fontes qu'elle connait. Certaines fontes sont courantes, d'autres sont spécifiques à certains OS, et d'autres ont été spécifiquement installées sur la machine.\n",
    "\n",
    "Helvetica est une polce de caractères disponible partout. On l'utilise ici en 18 points. "
   ]
  },
  {
   "cell_type": "code",
   "execution_count": null,
   "metadata": {
    "collapsed": true
   },
   "outputs": [],
   "source": [
    "pygame.font.init()\n",
    "labelFont = pygame.font.SysFont(\"Helvetica\", 18) "
   ]
  },
  {
   "cell_type": "code",
   "execution_count": null,
   "metadata": {
    "collapsed": true
   },
   "outputs": [],
   "source": [
    "# intialise le vecteur de déplacement à immobile\n",
    "speed_vector = [0, 0]\n",
    "  \n",
    "while True:\n",
    "    for event in pygame.event.get():\n",
    "        # pour le bouton de fermeture de la fenêtre, quitte le programme\n",
    "        if event.type == pygame.QUIT:\n",
    "           sys.exit()\n",
    "        # pour l'utilisation des touches, modifie le vecteur de déplacement\n",
    "        if event.type == pygame.KEYDOWN:\n",
    "           if event.key == pygame.K_RIGHT:\n",
    "              speed_vector = [20, 0]\n",
    "           if event.key == pygame.K_LEFT:\n",
    "              speed_vector = [-20, 0]\n",
    "           if event.key == pygame.K_UP:\n",
    "              speed_vector = [0, -20]\n",
    "           if event.key == pygame.K_DOWN:\n",
    "              speed_vector = [0, 20]\n",
    "        if event.type == pygame.KEYUP:\n",
    "              speed_vector = [0, 0]\n",
    "\n",
    "\n",
    "    # reaffiche le fond et la balle en tenant compte du déplacement\n",
    "    screen.fill(color_black)\n"
   ]
  },
  {
   "cell_type": "markdown",
   "metadata": {},
   "source": [
    "On affiche le texte après avoir réaffiché le fond.\n",
    "\n",
    "Le render est une fonction qui génère le bout d'image qui contient le texte. C'est un objet Surface\n",
    "- Le premier paramètre contient le texte. En Python, les chaînes de caractères sont placées entre des \" (double quote)\n",
    "- Le deuxième paramètre, True, indique l'usage de l'antialiasing. Ce procédé rend les caractères plus lisses et plus jolis\n",
    "- Le troisième paramètre est la couleur \n",
    "\n",
    "On projete ensuite cette Surface sur la fenêtre d'affichage avec blit. Comme pour la balle il faut indiquer la position en haut à gauche\n",
    "- Le premier paramètre est l'objet Surface à intégrer\n",
    "- Le deuxième paramètre est la position du coin en haut à gauche du texte\n"
   ]
  },
  {
   "cell_type": "code",
   "execution_count": null,
   "metadata": {
    "collapsed": true
   },
   "outputs": [],
   "source": [
    "    # affiche le texte\n",
    "    label = labelFont.render(\"Déplacez la balle avec les flèches\", True, color_red)\n",
    "    screen.blit(label, ( 10, 100) )\n"
   ]
  },
  {
   "cell_type": "code",
   "execution_count": null,
   "metadata": {
    "collapsed": true
   },
   "outputs": [],
   "source": [
    "    # affiche la balle\n",
    "    ballrect = ballrect.move(speed_vector)\n",
    "    screen.blit(ball, ballrect)\n",
    "\n",
    "    pygame.display.flip()\n"
   ]
  },
  {
   "cell_type": "markdown",
   "metadata": {},
   "source": [
    "## Coder le programme\n",
    "\n",
    "Réouvre ball.py dans l'éditeur de code.\n",
    "\n",
    "Ajoute les lignes de code ou recopie l'ensemble du code.\n",
    "\n",
    "Lance le programme en utilisant l'éditeur ou la commande en ligne python ball.py."
   ]
  },
  {
   "cell_type": "markdown",
   "metadata": {},
   "source": [
    "## Modifier le programme"
   ]
  },
  {
   "cell_type": "markdown",
   "metadata": {},
   "source": [
    "### Centre le texte\n",
    "\n",
    "Le texte serait plus joli s'il était au centre de la fenêtre.\n",
    "\n",
    "Pour cela, il faut calculer la position passée à blit. C'est le même principe que pour la balle\n",
    "- x est la moitié de la largeur du canvas d'affichage - la moitié de la largeur du texte\n",
    "- y est la moitié de la hauteur du canvas d'affichage - la moitié de la hauteur du texte\n",
    "\n",
    "Le texte n'a pas directement de width et height. Mais il a un rectangle englobant. On peut obtenir ce rectangle par get_rect"
   ]
  },
  {
   "cell_type": "markdown",
   "metadata": {},
   "source": [
    "#### Solution"
   ]
  },
  {
   "cell_type": "code",
   "execution_count": null,
   "metadata": {
    "collapsed": true
   },
   "outputs": [],
   "source": [
    "    label = labelFont.render(\"Déplacez la balle avec les flèches\", True, color_red)\n",
    "    labelPosition = ( (width - label.get_rect().width)/2, \n",
    "                      (height - label.get_rect().height)/2 )\n",
    "    screen.blit(label, labelPosition)"
   ]
  },
  {
   "cell_type": "markdown",
   "metadata": {},
   "source": [
    "### Change la police\n",
    "\n",
    "Remplace Helvetica par d'autres fontes. \n",
    "'\n",
    "Le programme show_fonts.py affiche les fontes qu'il trouve sur la machine.\n",
    "\n",
    "Quelques ewemples: lucidaconsole, futura, optima, keyboard, charkboard, hanzipento, markerfelt"
   ]
  }
 ],
 "metadata": {
  "kernelspec": {
   "display_name": "Python [default]",
   "language": "python",
   "name": "python3"
  },
  "language_info": {
   "codemirror_mode": {
    "name": "ipython",
    "version": 3
   },
   "file_extension": ".py",
   "mimetype": "text/x-python",
   "name": "python",
   "nbconvert_exporter": "python",
   "pygments_lexer": "ipython3",
   "version": "3.5.2"
  }
 },
 "nbformat": 4,
 "nbformat_minor": 1
}
