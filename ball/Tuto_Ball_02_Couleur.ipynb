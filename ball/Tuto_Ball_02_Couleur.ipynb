{
 "cells": [
  {
   "cell_type": "markdown",
   "metadata": {
    "nbpresent": {
     "id": "7776cba5-b5a5-41bd-ad46-8d40a4d162d7"
    }
   },
   "source": [
    "# 02 - Changer les couleurs et afficher des formes"
   ]
  },
  {
   "cell_type": "markdown",
   "metadata": {
    "nbpresent": {
     "id": "3d67ff2b-c90c-4355-8c1e-b4732e54ffbb"
    }
   },
   "source": [
    "## Présentation du programme"
   ]
  },
  {
   "cell_type": "code",
   "execution_count": 3,
   "metadata": {
    "collapsed": false,
    "nbpresent": {
     "id": "0ca36165-2efb-4dd3-9301-0eb68dae363c"
    }
   },
   "outputs": [],
   "source": [
    "import sys, time, pygame\n",
    "pygame.init()"
   ]
  },
  {
   "cell_type": "code",
   "execution_count": null,
   "metadata": {
    "collapsed": true,
    "nbpresent": {
     "id": "fb971b06-48b3-46ce-9cf4-c8ff9e069790"
    }
   },
   "outputs": [],
   "source": [
    "width = 320 \n",
    "height = 240\n",
    "window_size = ( width, height )"
   ]
  },
  {
   "cell_type": "markdown",
   "metadata": {
    "nbpresent": {
     "id": "6941ac62-08f2-4793-a3f8-c27aed7c296b"
    }
   },
   "source": [
    "Pour l'affichage sur écran les couleurs sont définies par 3 nombres\n",
    "\n",
    "Ces nombres représentent la quantité de rouge (R), de vert (V), de bleu (B)\n",
    "\n",
    "La valeur minimale est 0 (pas de lumière) et le maximum est 255 (maximum de lumière)\n",
    "\n",
    "Par exemple, 255 255 255 représente du blanc, 255 0 0 représente du rouge vif.  0 0 0 est une absence de lumière donc du noir\n"
   ]
  },
  {
   "cell_type": "code",
   "execution_count": null,
   "metadata": {
    "collapsed": true,
    "nbpresent": {
     "id": "429b052c-dd77-4fc8-a448-87f7a5279b24"
    }
   },
   "outputs": [],
   "source": [
    "color_black = (  0,   0,   0)\n",
    "color_red   = (255,   0,   0)\n",
    "color_white = (255, 255, 255)\n"
   ]
  },
  {
   "cell_type": "markdown",
   "metadata": {
    "nbpresent": {
     "id": "355034f8-846b-4872-b0b2-091fa29c96c8"
    }
   },
   "source": [
    "On obtient la surface de dessin dans screen.\n",
    "\n",
    "La fonction fill permet de remplir toute la surface"
   ]
  },
  {
   "cell_type": "code",
   "execution_count": null,
   "metadata": {
    "collapsed": true,
    "nbpresent": {
     "id": "8c78bf45-441b-47cc-bde2-3a7074907850"
    }
   },
   "outputs": [],
   "source": [
    "screen = pygame.display.set_mode(window_size)\n",
    "screen.fill(color_black)"
   ]
  },
  {
   "cell_type": "markdown",
   "metadata": {
    "nbpresent": {
     "id": "328fb7e4-bcb9-4fc9-a85b-c66f8bf9818d"
    }
   },
   "source": [
    "Dessine et peint un rectangle\n",
    "\n",
    "Le rectangle est défini par son coin gauche et son coin droit.\n",
    "Par exemple, on veut dessiner un rectangle qui occupe le centre de la fenêtre\n",
    "- 50, 30 désigne un point situé 50 pixels en dessous et 30 pixels à droite du coin en haut à gauche.\n",
    "- width-100, height-60 désigne un point situé 50 pixels au dessus et 30 pixels à gauche du coin en bas à droite."
   ]
  },
  {
   "cell_type": "code",
   "execution_count": null,
   "metadata": {
    "collapsed": true,
    "nbpresent": {
     "id": "16266fc3-ff78-473a-9271-6f7ce142fbf3"
    }
   },
   "outputs": [],
   "source": [
    "rect = [50, 30, width-100, height-60]\n",
    "pygame.draw.rect(screen, color_white, rect)"
   ]
  },
  {
   "cell_type": "markdown",
   "metadata": {
    "nbpresent": {
     "id": "40e81f96-22f7-425e-a3a0-091c76d5e1a8"
    }
   },
   "source": [
    "Le rectangle est peint sur une zone non visible pour éviter qu'on voit le dessin en cours\n",
    "\n",
    "flip le copie sur l'écran\n",
    "\n",
    "Cette ligne doit être à la fin du dessin, après TOUTES les instructions d'affichage"
   ]
  },
  {
   "cell_type": "code",
   "execution_count": null,
   "metadata": {
    "collapsed": true,
    "nbpresent": {
     "id": "0bf35e93-2610-4544-87d1-dba3e78f37e1"
    }
   },
   "outputs": [],
   "source": [
    "pygame.display.flip()"
   ]
  },
  {
   "cell_type": "markdown",
   "metadata": {
    "nbpresent": {
     "id": "1de77fc3-73cc-4849-a02a-e585fd9e2ff9"
    }
   },
   "source": [
    "Lances le programme pour 5 secondes"
   ]
  },
  {
   "cell_type": "code",
   "execution_count": null,
   "metadata": {
    "collapsed": true,
    "nbpresent": {
     "id": "0650586b-5b2f-48a2-b5ff-34b6c11aee20"
    }
   },
   "outputs": [],
   "source": [
    "time.sleep(5)\n",
    "quit()\n"
   ]
  },
  {
   "cell_type": "markdown",
   "metadata": {
    "nbpresent": {
     "id": "b4a03870-29d4-43d5-936d-1c094719c87a"
    }
   },
   "source": [
    "## Coder le programme\n",
    "\n",
    "Réouvre ball.py dans l'éditeur de code.\n",
    "\n",
    "Ajoute les lignes de code ou recopie l'ensemble du code.\n",
    "\n",
    "Lance le programme en utilisant l'éditeur ou la commande en ligne python ball.py.\n",
    "\n",
    "## Modifier le programme\n",
    "\n",
    "Modifie les couleurs et les formes.\n",
    "\n",
    "- ellipse dessine un cercle ou une ellipse\n",
    "\n",
    "pygame.draw.ellipse(screen, color_red, [300, 10, 50, 20]) \n",
    "\n",
    "- un paramètre supplémentaire permet de définir la taille de la ligne et de ne dessiner que la bordure\n",
    "\n",
    "pygame.draw.rect(screen, color_red, [75, 10, 50, 20], 2)\n",
    "\n",
    "- une ligne est définie par un chemin, c'est à une série de points par lesquels elle passe. False indique que le chemin ne se ferme pas, True indique qu'il se ferme\n",
    "\n",
    "pygame.draw.lines(screen, color_red, False, [[0, 80], [50, 90], [200, 80], [220, 30]], 5)\n",
    "\n"
   ]
  }
 ],
 "metadata": {
  "anaconda-cloud": {},
  "kernelspec": {
   "display_name": "Python [default]",
   "language": "python",
   "name": "python3"
  },
  "language_info": {
   "codemirror_mode": {
    "name": "ipython",
    "version": 3
   },
   "file_extension": ".py",
   "mimetype": "text/x-python",
   "name": "python",
   "nbconvert_exporter": "python",
   "pygments_lexer": "ipython3",
   "version": "3.5.2"
  }
 },
 "nbformat": 4,
 "nbformat_minor": 1
}
