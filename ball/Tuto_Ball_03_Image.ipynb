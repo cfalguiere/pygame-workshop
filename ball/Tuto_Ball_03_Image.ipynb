{
 "cells": [
  {
   "cell_type": "markdown",
   "metadata": {},
   "source": [
    "# 03 - Afficher une image\n",
    "\n",
    "Dans un jeu les images de fond ou les personnages sont trop complexes pour les redessiner à chaque fois.\n",
    "\n",
    "On va dessiner les éléments dans un outil comme Gimp et on affichera ces images dans le programme.\n"
   ]
  },
  {
   "cell_type": "markdown",
   "metadata": {},
   "source": [
    "## Présentation du programme"
   ]
  },
  {
   "cell_type": "code",
   "execution_count": 2,
   "metadata": {
    "collapsed": false
   },
   "outputs": [],
   "source": [
    "import sys, time, pygame\n",
    "pygame.init()\n",
    "\n",
    "width = 320\n",
    "height = 240\n",
    "window_size = ( width, height )\n",
    "\n",
    "# Affichage du fond\n",
    "color_black = (  0,   0,   0)\n",
    "screen = pygame.display.set_mode(window_size)\n",
    "screen.fill(color_black)\n"
   ]
  },
  {
   "cell_type": "markdown",
   "metadata": {},
   "source": [
    "load est une fonction du module image qui change un fichier image (ici ball.bmp)\n",
    "\n",
    "ball.get_rect() permet d'obtenir les dimensions de l'image chargée\n",
    "\n",
    "screen.blit est une fonction de Surface qui copie l'image dans le rectangle défini par ballrect"
   ]
  },
  {
   "cell_type": "code",
   "execution_count": null,
   "metadata": {
    "collapsed": true
   },
   "outputs": [],
   "source": [
    "ball = pygame.image.load(\"ball.bmp\")\n",
    "ballrect = ball.get_rect()\n",
    "screen.blit(ball, ballrect)"
   ]
  },
  {
   "cell_type": "markdown",
   "metadata": {},
   "source": [
    "La fonction move permet de déplacer la balle du nombre de pixels indiqué.\n",
    "\n",
    "Ce déplacement est indiqué par un vecteur [ x, y ] où x indique le déplacement horizontal et y le déplacement vertical "
   ]
  },
  {
   "cell_type": "code",
   "execution_count": null,
   "metadata": {
    "collapsed": true
   },
   "outputs": [],
   "source": [
    "ballrect = ballrect.move([100,80]) \n",
    "screen.blit(ball, ballrect)"
   ]
  },
  {
   "cell_type": "code",
   "execution_count": null,
   "metadata": {
    "collapsed": true
   },
   "outputs": [],
   "source": [
    "# Affiche l'image sur la fenêtre\n",
    "pygame.display.flip()\n",
    "\n",
    "# Si tu lances le programme tu va le voir s'afficher 5 secondes et s'arrêter\n",
    "# La balle ne disparaît pas quand elle se déplace pour le moment. On corrigera plus tard.\n",
    "time.sleep(5)\n",
    "quit()"
   ]
  },
  {
   "cell_type": "markdown",
   "metadata": {},
   "source": [
    "## Coder le programme\n",
    "\n",
    "Réouvre ball.py dans l'éditeur de code.\n",
    "\n",
    "Ajoute les lignes de code ou recopie l'ensemble du code.\n",
    "\n",
    "Lance le programme en utilisant l'éditeur ou la commande en ligne python ball.py."
   ]
  },
  {
   "cell_type": "markdown",
   "metadata": {},
   "source": [
    "## Modifier le programme\n",
    "\n",
    "Change le déplacement pour que la balle aille du coin en haut à gauche au centre.\n",
    "\n",
    "Tu peux obtenir le centre de la zone de dessin en utilisant les formules suivantes\n",
    "\n",
    "centerX = width / 2, \n",
    "centerY = height / 2 \n",
    "\n",
    "Programme ce changement à la place de ballrect.move([100,80]) \n",
    "\n",
    "Est ce que la balle est vraiment au centre ? "
   ]
  },
  {
   "cell_type": "markdown",
   "metadata": {},
   "source": [
    "La balle n'est pas au centre parce qu'on indique où placer le coin en haut à gauche de l'image.\n",
    "\n",
    "Pour la centrer correctement, il faut enlever la demi largeur d'image et la demi hauteur d'image.\n",
    "\n",
    "La largeur et la largeur de l'image s'obtiennent avec ballrect.width et ballrect.height"
   ]
  },
  {
   "cell_type": "markdown",
   "metadata": {},
   "source": [
    "### Solution"
   ]
  },
  {
   "cell_type": "code",
   "execution_count": null,
   "metadata": {
    "collapsed": true
   },
   "outputs": [],
   "source": [
    "centerX = (width - ballrect.width)/2\n",
    "centerY = (height - ballrect.height)/2 \n",
    "ballrect = ballrect.move([centerX, centerY]) \n",
    "screen.blit(ball, ballrect)\n"
   ]
  }
 ],
 "metadata": {
  "anaconda-cloud": {},
  "kernelspec": {
   "display_name": "Python [default]",
   "language": "python",
   "name": "python3"
  },
  "language_info": {
   "codemirror_mode": {
    "name": "ipython",
    "version": 3
   },
   "file_extension": ".py",
   "mimetype": "text/x-python",
   "name": "python",
   "nbconvert_exporter": "python",
   "pygments_lexer": "ipython3",
   "version": "3.5.2"
  }
 },
 "nbformat": 4,
 "nbformat_minor": 1
}
