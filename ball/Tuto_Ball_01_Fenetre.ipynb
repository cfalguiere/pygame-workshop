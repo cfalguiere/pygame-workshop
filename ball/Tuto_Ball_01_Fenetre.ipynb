{
 "cells": [
  {
   "cell_type": "markdown",
   "metadata": {},
   "source": [
    "# 01 - Afficher une fenêtre PyGame"
   ]
  },
  {
   "cell_type": "markdown",
   "metadata": {},
   "source": [
    "## Présentation du programme"
   ]
  },
  {
   "cell_type": "markdown",
   "metadata": {},
   "source": [
    "Le langage Python permet de faire beaucoup de choses.\n",
    "Le code est organisé par modules qui regroupent des fonctions qui ont le même but.\n",
    "\n",
    "Le mot <b>import</b> indique le module de code que l'on veut utiliser. \n",
    "Ici ce sont sys (pour systeme), time pour le temps et la librairie PyGame pour coder des jeux\n"
   ]
  },
  {
   "cell_type": "code",
   "execution_count": 1,
   "metadata": {
    "collapsed": false
   },
   "outputs": [],
   "source": [
    "import sys, time, pygame"
   ]
  },
  {
   "cell_type": "markdown",
   "metadata": {},
   "source": [
    "En utilisant le module pygame nous allons appeler la fonction init()\n",
    "\n",
    "Cette fonction \"initialise\" l'environnement c'est à dire met en place ce qu'il faut pour que ça marche sur cette machine\n",
    "\n",
    "Note que l'on a des . entre les mots. \n",
    "\n",
    "En python (et dans beaucoup de langages) on découpe les modules en fonction qui réalise une tâche donnée. On appelle une fonction dans un module particulier en utilisant &lt;nom du module&gt; . &lt;nom de la fonction&gt;\n",
    "\n",
    "Une fonction peut avoir des paramètres. Par exemple, une fonction qui change la couleur aurait un paramètre couleur.\n",
    "\n",
    "Les parenthèses ( ) entourent les paramètres de la fonction. Ici elle n'en a pas et la fonction s'écrit seulement init()"
   ]
  },
  {
   "cell_type": "code",
   "execution_count": 2,
   "metadata": {
    "collapsed": false
   },
   "outputs": [
    {
     "data": {
      "text/plain": [
       "(5, 1)"
      ]
     },
     "execution_count": 2,
     "metadata": {},
     "output_type": "execute_result"
    }
   ],
   "source": [
    "pygame.init()"
   ]
  },
  {
   "cell_type": "markdown",
   "metadata": {},
   "source": [
    "width et height sont des variables \n",
    "\n",
    "Elles permettent de définir la largeur et la hauteur de la fenêtre à afficher\n",
    "\n",
    "La caractéristique d'une variable c'est qu'elle peut changer d'état au cours du temps. Mais son nom reste le même. \n",
    "On peut ainsi consulter l'état de la variable par son nom plus tard dans le programme\n"
   ]
  },
  {
   "cell_type": "code",
   "execution_count": 3,
   "metadata": {
    "collapsed": true
   },
   "outputs": [],
   "source": [
    "width = 320 \n",
    "height = 240"
   ]
  },
  {
   "cell_type": "markdown",
   "metadata": {},
   "source": [
    "print est une fonction qui affiche le contenu de la variable sur le terminal "
   ]
  },
  {
   "cell_type": "code",
   "execution_count": 4,
   "metadata": {
    "collapsed": false
   },
   "outputs": [
    {
     "name": "stdout",
     "output_type": "stream",
     "text": [
      "320\n"
     ]
    }
   ],
   "source": [
    "print( width )"
   ]
  },
  {
   "cell_type": "markdown",
   "metadata": {},
   "source": [
    "window_size est aussi une variable. \n",
    "\n",
    "Au lieu de contenir simplement un nombre elle contient une paire de nombres. width et height vont être remplacés par la valeur de width et height définie plus haure"
   ]
  },
  {
   "cell_type": "code",
   "execution_count": 5,
   "metadata": {
    "collapsed": true
   },
   "outputs": [],
   "source": [
    "window_size = ( width, height )"
   ]
  },
  {
   "cell_type": "markdown",
   "metadata": {},
   "source": [
    "print affiche les valeurs sous une forme adaptée à sa structure, ici (320, 240)\n",
    "\n",
    "Les parenthèses indiquent que c'est une liste, c'est à dire une suite de valeurs"
   ]
  },
  {
   "cell_type": "code",
   "execution_count": 6,
   "metadata": {
    "collapsed": false
   },
   "outputs": [
    {
     "name": "stdout",
     "output_type": "stream",
     "text": [
      "(320, 240)\n"
     ]
    }
   ],
   "source": [
    "print( window_size )"
   ]
  },
  {
   "cell_type": "markdown",
   "metadata": {},
   "source": [
    "screen est une variable qui est construite par la fonction display de pygame\n",
    "\n",
    "pygame a besoin  d'informations par exemple window_size. Ces informations sont passées par la fonction set_mode"
   ]
  },
  {
   "cell_type": "code",
   "execution_count": 7,
   "metadata": {
    "collapsed": true
   },
   "outputs": [],
   "source": [
    "screen = pygame.display.set_mode(window_size)"
   ]
  },
  {
   "cell_type": "markdown",
   "metadata": {},
   "source": [
    "Si tu lances le programme tu va le voir s'afficher 5 secondes et s'arrêter"
   ]
  },
  {
   "cell_type": "code",
   "execution_count": 8,
   "metadata": {
    "collapsed": true
   },
   "outputs": [],
   "source": [
    "time.sleep(5)\n",
    "quit()"
   ]
  },
  {
   "cell_type": "markdown",
   "metadata": {},
   "source": [
    "## Coder le programme\n",
    "\n",
    "Ouvre l'éditeur de code.\n",
    "\n",
    "Crée un fichier ball.py et copie les lignes de code.\n",
    "\n",
    "Lance le programme en utilisant l'éditeur ou la commande en ligne python ball.py.\n",
    "\n",
    "## Modifier le programme\n",
    "\n",
    "Modifie la taille de la fenêtre pour l'adapter à la taille de ton écran."
   ]
  }
 ],
 "metadata": {
  "anaconda-cloud": {},
  "kernelspec": {
   "display_name": "Python 3",
   "language": "python",
   "name": "python3"
  },
  "language_info": {
   "codemirror_mode": {
    "name": "ipython",
    "version": 3
   },
   "file_extension": ".py",
   "mimetype": "text/x-python",
   "name": "python",
   "nbconvert_exporter": "python",
   "pygments_lexer": "ipython3",
   "version": "3.5.2"
  }
 },
 "nbformat": 4,
 "nbformat_minor": 1
}
