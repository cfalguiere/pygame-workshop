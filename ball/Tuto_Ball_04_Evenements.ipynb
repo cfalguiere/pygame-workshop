{
 "cells": [
  {
   "cell_type": "markdown",
   "metadata": {},
   "source": [
    "# 04 - Boucle d'événements"
   ]
  },
  {
   "cell_type": "markdown",
   "metadata": {},
   "source": [
    "Un jeu nécessite en général de gérer des interactions avec le joueur.\n",
    "\n",
    "Lorsque le joueur utilise le clavier ou les boutons de la fenêtre, l'ordinateur envoie des messages au programme. \n",
    "\n",
    "Ces messages s'appellent des évèvements et les programmes de ce type utilisent une boucle d'événement pour les attraper et les traiter.\n",
    "\n",
    "ça fonctionne un peu comme à une caisse de supermarché\n",
    "- Lorsqu'un événement arrive il est mis dans une file d'attente. \n",
    "- Chaque fois qu'il n'a rien à faire le programme va voir dans la file d'attente et prend le premier événement arrivé\n",
    "- Il le retire de la file d'attente\n",
    "- Il le traite \n",
    "- Puis il revient et prend le premier événement dans la file ...\n",
    "\n",
    "Dans notre exemple, 2 types d'évenements sont traités \n",
    "- la fermeture de la fenêtre et l'arrêt du jeu\n",
    "- les touches flèche pour déplacer la balle\n"
   ]
  },
  {
   "cell_type": "code",
   "execution_count": null,
   "metadata": {
    "collapsed": true
   },
   "outputs": [],
   "source": [
    "import sys, pygame\n",
    "pygame.init()\n",
    "\n",
    "width = 320\n",
    "height = 240\n",
    "window_size = ( width, height )\n",
    "\n",
    "color_black = 0, 0, 0\n",
    "\n",
    "screen = pygame.display.set_mode(window_size)\n",
    "\n",
    "ball = pygame.image.load(\"ball.bmp\")\n",
    "ballrect = ball.get_rect()"
   ]
  },
  {
   "cell_type": "markdown",
   "metadata": {},
   "source": [
    "On va rajouter une variable qui indiquera la vitesse de déplacement de la balle.\n",
    "\n",
    "Au départ la vitesse est 0 dans les 2 axes (horizontal et vertical). Le vecteur est [ 0, 0 ].\n",
    "\n",
    "Lorsque le joueur voudra déplacer la balle la vitesse sera modifiée.\n",
    "\n"
   ]
  },
  {
   "cell_type": "code",
   "execution_count": null,
   "metadata": {
    "collapsed": true
   },
   "outputs": [],
   "source": [
    "speed_vector = [0, 0]"
   ]
  },
  {
   "cell_type": "markdown",
   "metadata": {},
   "source": [
    "Le programme est maintenant dans une boucle. \n",
    "\n",
    "while est une structure de contrôle qui permet de répéter ce qui suit tant que une condition est vrai.\n",
    "\n",
    "Ici la condition est True, qui est toujours vrai par construction. Dans un vrai programme on définirai une condition qui devient vrai quand la partie est terminée.\n"
   ]
  },
  {
   "cell_type": "code",
   "execution_count": null,
   "metadata": {
    "collapsed": true
   },
   "outputs": [],
   "source": [
    "while True:"
   ]
  },
  {
   "cell_type": "markdown",
   "metadata": {},
   "source": [
    "Dans cette boucle, nous allons \n",
    "\n",
    "- lire les évenements présents à ce moment : pygame.event.get()\n",
    "- traiter chacun de ces évenements : c'est le but du for event \n",
    "- réafficher le fond et la balle : de cette manière l'ancienne balle est effacée et la nouvelle est affichée à la position qui correspond à son déplacement\n",
    "     "
   ]
  },
  {
   "cell_type": "code",
   "execution_count": null,
   "metadata": {
    "collapsed": true
   },
   "outputs": [],
   "source": [
    "    for event in pygame.event.get():\n",
    "       ...\n",
    "\n",
    "    # reaffiche le fond et la balle en tenant compte du déplacement        \n",
    "    screen.fill(color_black)\n",
    "    ballrect = ballrect.move(speed_vector) \n",
    "    screen.blit(ball, ballrect)\n",
    "    \n",
    "    pygame.display.flip()\n"
   ]
  },
  {
   "cell_type": "markdown",
   "metadata": {},
   "source": [
    "Un événement est défini en premier par son type. QUIT, KEYDOWN, KEYUP, MOUSEMOTION sont des événements.\n",
    "\n",
    "if permet de vérifier si la condition qui suit est vrai et entrer dans cette partie du code si c'est le cas.\n",
    "\n",
    "La condition testée est event.type == pygame.QUIT\n",
    "\n",
    "- event.type indique qu'on veut lire la valeur \"type\" dans l'événement\n",
    "\n",
    "- pygame.QUIT indique une valeur qui correspond à cet évenement. La valeur 12 a été choisie pour coder ce type d'événement. Mais on va plutôt utiliser le nom QUIT qui est plus parlant et évite des erreur. QUIT est en majuscule parce que c'est une constante définie dans le module pygame. Sa valeur ne change pas. Une constante s'utilise comme une variable, à la différence que sa valeur ne peut être définie qu'une seule fois.\n",
    "\n",
    "- == indique que l'on veur comparer les 2 valeurs. \n",
    "\n",
    "Attention: \n",
    "\n",
    "- = signifie que l'on veut que la variable qui est à gauche du = reçoive la valeur qui est à droite du =. \n",
    "\n",
    "- == signifie qu'on veut vérifier que les valeurs sont égales. Le résultat est une variable que contient vrai ou faux (True ou False) et qu'on appelle un booléen.\n",
    "\n",
    "Si la condition est vrai, la fin du programme est demandées par sys.exit()"
   ]
  },
  {
   "cell_type": "code",
   "execution_count": null,
   "metadata": {
    "collapsed": true
   },
   "outputs": [],
   "source": [
    "    for event in pygame.event.get():\n",
    "        # pour le bouton de fermeture de la fenêtre, quitte le programme\n",
    "        if event.type == pygame.QUIT: \n",
    "           sys.exit()\n"
   ]
  },
  {
   "cell_type": "markdown",
   "metadata": {},
   "source": [
    "Pour gérer les déplacements on va utiliser les événements clavier KEYDOWN et KEYUP\n",
    "\n",
    "Lorsque le joueur appuie sur une des touches, la vitesse est modifiée en fonction du déplacement demandé\n",
    "\n",
    "Lorsque le joueur relache la touche, la vitesse redevient 0.\n",
    "\n",
    "La position de la balle est modifiée en utilisant cette vitesse et l'image est redessinée."
   ]
  },
  {
   "cell_type": "code",
   "execution_count": null,
   "metadata": {
    "collapsed": true
   },
   "outputs": [],
   "source": [
    "    for event in pygame.event.get():\n",
    "        if event.type == pygame.QUIT: \n",
    "           sys.exit()\n",
    "        if event.type == pygame.KEYDOWN: \n",
    "           if event.key == pygame.K_RIGHT: \n",
    "              speed_vector = [20, 0]     \n",
    "        if event.type == pygame.KEYUP: \n",
    "              speed_vector = [0, 0]     \n",
    "\n",
    "    # reaffiche le fond et la balle en tenant compte du déplacement        \n",
    "    screen.fill(color_black)\n",
    "    ballrect = ballrect.move(speed_vector) \n",
    "    screen.blit(ball, ballrect)\n"
   ]
  },
  {
   "cell_type": "markdown",
   "metadata": {},
   "source": [
    "## Coder le programme\n",
    "\n",
    "Réouvre ball.py dans l'éditeur de code.\n",
    "\n",
    "Ajoute les lignes de code ou recopie l'ensemble du code.\n",
    "\n",
    "Lance le programme en utilisant l'éditeur ou la commande en ligne python ball.py."
   ]
  },
  {
   "cell_type": "markdown",
   "metadata": {},
   "source": [
    "## Modifier le programme\n"
   ]
  },
  {
   "cell_type": "markdown",
   "metadata": {},
   "source": [
    "### Affiche les événements \n",
    "\n",
    "Tu peut afficher les évenements avec des prints pour voir ce qu'il se passe lorsque tu appuie sur les touches ou lorsque tu bouges la souris.\n",
    "\n"
   ]
  },
  {
   "cell_type": "code",
   "execution_count": null,
   "metadata": {
    "collapsed": true
   },
   "outputs": [],
   "source": [
    "    for event in pygame.event.get():\n",
    "        print(event.type)\n",
    "        # pour le bouton de fermeture de la fenêtre, quitte le programme\n",
    "        if event.type == pygame.QUIT: \n",
    "           sys.exit()\n",
    "        # pour l'utilisation des touches, modifie le vecteur de déplacement\n",
    "        if event.type == pygame.KEYDOWN: \n",
    "           print(event.key)\n",
    "           # pour le bouton de fermeture de la fenêtre, quitte le programme\n",
    "           if event.key == pygame.K_RIGHT: \n",
    "              speed_vector = [20, 0]     \n"
   ]
  },
  {
   "cell_type": "markdown",
   "metadata": {},
   "source": [
    "### Programme les autres touches.\n",
    "\n",
    "- si la touche -> (K_RIGHT) est demandée, la vitesse devient positive sur l'axe horizontal et le vecteur devient [ 20, 0 ]\n",
    "\n",
    "- si la touche <- (K_LEFT) est demandée, la vitesse devient négative sur l'axe horizontal et le vecteur devient [ -20, 0 ]\n",
    "\n",
    "Le principe est le même pour les touches haut et bas (K_UP et K_DOWN). Dans ce cas c'est l'axe vertical qui est modifié et l'axe horizontal reste à 0.\n",
    "\n",
    "Attention au fait que les coordonnées de l'écran sont définies par rapport au coin haut gauche. Lorsque la balle descend, la valeur de y (l'axe vertical) augmente. # Déplacer une balle avec la souris et quitter la fenêtre\n"
   ]
  },
  {
   "cell_type": "markdown",
   "metadata": {},
   "source": [
    "#### Solution"
   ]
  },
  {
   "cell_type": "code",
   "execution_count": null,
   "metadata": {
    "collapsed": true
   },
   "outputs": [],
   "source": [
    "while True:\n",
    "    for event in pygame.event.get():\n",
    "        # pour le bouton de fermeture de la fenêtre, quitte le programme\n",
    "        if event.type == pygame.QUIT: \n",
    "           sys.exit()\n",
    "        # pour l'utilisation des touches, modifie le vecteur de déplacement\n",
    "        if event.type == pygame.KEYDOWN: \n",
    "           if event.key == pygame.K_RIGHT: \n",
    "              speed_vector = [20, 0]     \n",
    "           if event.key == pygame.K_LEFT: \n",
    "              speed_vector = [-20, 0]     \n",
    "           if event.key == pygame.K_UP: \n",
    "              speed_vector = [0, -20]     \n",
    "           if event.key == pygame.K_DOWN: \n",
    "              speed_vector = [0, 20]     \n",
    "        if event.type == pygame.KEYUP: \n",
    "              speed_vector = [0, 0]     \n",
    " \n",
    "    # reaffiche le fond et la balle en tenant compte du déplacement\n",
    "    screen.fill(color_black)  \n",
    "    ballrect = ballrect.move(speed_vector) \n",
    "    screen.blit(ball, ballrect)\n",
    "    \n",
    "    pygame.display.flip()\n"
   ]
  }
 ],
 "metadata": {
  "anaconda-cloud": {},
  "kernelspec": {
   "display_name": "Python [default]",
   "language": "python",
   "name": "python3"
  },
  "language_info": {
   "codemirror_mode": {
    "name": "ipython",
    "version": 3
   },
   "file_extension": ".py",
   "mimetype": "text/x-python",
   "name": "python",
   "nbconvert_exporter": "python",
   "pygments_lexer": "ipython3",
   "version": "3.5.2"
  }
 },
 "nbformat": 4,
 "nbformat_minor": 1
}
