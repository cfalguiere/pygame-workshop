{
 "cells": [
  {
   "cell_type": "markdown",
   "metadata": {},
   "source": [
    "# Faire rebondir une balle sur les bords\n",
    "\n",
    "Cette démo comment faire rebondir une balle sur les bords de l'écran. \n",
    "\n",
    "Elle montre les principes de base\n",
    "- afficher la fenêtre du jeu\n",
    "- afficher une image de balle et la déplacer\n",
    "- détecter la demande de sortie du programme\n",
    "\n",
    "Le tutorial montre comment écrire le code étape par étape."
   ]
  },
  {
   "cell_type": "markdown",
   "metadata": {},
   "source": [
    "# PyGame\n",
    "\n",
    "PyGame est un framework de jeu écrit en Python. \n",
    "\n",
    "Python est un langage de programmation. Il fait partie des plus simples à apprendre. Il est utilisé dans divers contextes professionnels comme  l'analyse de données et la robotique. \n",
    "\n",
    "PyGame apporte des fonctions qui rendent plus facile l'affichage d'image, la génération de sons et la gestion des collisions entre objets."
   ]
  },
  {
   "cell_type": "markdown",
   "metadata": {},
   "source": [
    "# Etape 1\n",
    "\n",
    "Dans l'étape 1 nous allons nous familiariser avec le langage et apprendre à ouvrir la fenêtre du jeu\n",
    "\n",
    "Le code complet est ci-dessous. Il est étudié en détail à la suite de ce code.\n",
    "\n",
    "Tu peux copier ces lignes dans un fichier ball.py et le lancer par python ball.py pour voir ce qu'il fait."
   ]
  },
  {
   "cell_type": "code",
   "execution_count": 3,
   "metadata": {
    "collapsed": false
   },
   "outputs": [
    {
     "name": "stdout",
     "output_type": "stream",
     "text": [
      "320\n",
      "(320, 240)\n"
     ]
    }
   ],
   "source": [
    "#\n",
    "# Faire rebondir une balle\n",
    "# 01 - Afficher la fenêtre\n",
    "#\n",
    "\n",
    "# initialise pygame\n",
    "import time, pygame\n",
    "pygame.init()\n",
    "\n",
    "# défini la largeur et la hauteur de la fenêtre\n",
    "width = 320\n",
    "height = 240\n",
    "\n",
    "# print est une fonction qui affiche le contenu de la variable sur le terminal\n",
    "print( width )\n",
    "\n",
    "# window_size contient la paire de nombres largeur x hauteur\n",
    "window_size = ( width, height )\n",
    "\n",
    "# print affiche le contenu de window_size\n",
    "print( window_size )\n",
    "\n",
    "# défini la zone d'affichage\n",
    "game_surface = pygame.display.set_mode(window_size)\n",
    "\n",
    "# attend 5 seconde et ferme le programme\n",
    "time.sleep(5)"
   ]
  },
  {
   "cell_type": "markdown",
   "metadata": {},
   "source": [
    "## Etude du programme étape 1"
   ]
  },
  {
   "cell_type": "code",
   "execution_count": 4,
   "metadata": {
    "collapsed": true
   },
   "outputs": [],
   "source": [
    "#\n",
    "# Faire rebondir une balle\n",
    "# 01 - Afficher la fenêtre\n",
    "#"
   ]
  },
  {
   "cell_type": "markdown",
   "metadata": {},
   "source": [
    "Les lignes qui commencent par # sont des commentaires. Elle servent seulement à comprendre ce que fait le programme."
   ]
  },
  {
   "cell_type": "code",
   "execution_count": 5,
   "metadata": {
    "collapsed": false
   },
   "outputs": [
    {
     "data": {
      "text/plain": [
       "(5, 1)"
      ]
     },
     "execution_count": 5,
     "metadata": {},
     "output_type": "execute_result"
    }
   ],
   "source": [
    "# initialise pygame\n",
    "import time, pygame\n",
    "pygame.init()"
   ]
  },
  {
   "cell_type": "markdown",
   "metadata": {},
   "source": [
    "Le mot <b>import</b> indique le module de code que l'on veut utiliser. \n",
    "\n",
    "Un langage de programmation comme Python comporte de nombreuses fonctions. Elles sont rangées par modules qui regroupent des fonctions qui ont le même but.\n",
    "- time contient des fonctions liées à la date et l\"heure\n",
    "- pygame contient les fonctions de PyGame"
   ]
  },
  {
   "cell_type": "markdown",
   "metadata": {},
   "source": [
    "En utilisant le module pygame nous allons appeler la fonction init()\n",
    "\n",
    "Cette fonction \"initialise\" l'environnement c'est à dire met en place ce qu'il faut pour que ça marche sur cette machine\n",
    "\n",
    "Note que l'on a des . entre les mots. \n",
    "\n",
    "En python (et dans beaucoup de langages) on découpe les modules en fonctions qui réalisent une tâche donnée. On appelle une fonction dans un module particulier en utilisant &lt;nom du module&gt; . &lt;nom de la fonction&gt;\n",
    "\n",
    "Une fonction peut avoir des paramètres. Par exemple, une fonction qui change la couleur aurait un paramètre couleur.\n",
    "\n",
    "Les parenthèses ( ) entourent les paramètres de la fonction. Ici elle n'en a pas et la fonction s'écrit seulement init()"
   ]
  },
  {
   "cell_type": "code",
   "execution_count": 6,
   "metadata": {
    "collapsed": true
   },
   "outputs": [],
   "source": [
    "# défini la largeur et la hauteur de la fenêtre\n",
    "width = 320 \n",
    "height = 240"
   ]
  },
  {
   "cell_type": "markdown",
   "metadata": {},
   "source": [
    "width et height sont des variables \n",
    "\n",
    "Elles permettent de définir la largeur et la hauteur de la fenêtre à afficher\n",
    "\n",
    "La caractéristique d'une variable c'est qu'elle peut changer d'état au cours du temps. Mais son nom reste le même. \n",
    "On peut ainsi consulter l'état de la variable par son nom plus tard dans le programme\n"
   ]
  },
  {
   "cell_type": "code",
   "execution_count": 7,
   "metadata": {
    "collapsed": false
   },
   "outputs": [
    {
     "name": "stdout",
     "output_type": "stream",
     "text": [
      "320\n"
     ]
    }
   ],
   "source": [
    "# affiche le contenu de la variable sur le terminal\n",
    "print( width )"
   ]
  },
  {
   "cell_type": "markdown",
   "metadata": {},
   "source": [
    "print est une fonction qui affiche le contenu de la variable sur le terminal"
   ]
  },
  {
   "cell_type": "code",
   "execution_count": 8,
   "metadata": {
    "collapsed": true
   },
   "outputs": [],
   "source": [
    "# window_size contient la paire de nombres largeur x hauteur\n",
    "window_size = ( width, height )"
   ]
  },
  {
   "cell_type": "markdown",
   "metadata": {},
   "source": [
    "window_size est aussi une variable. \n",
    "\n",
    "Au lieu de contenir simplement un nombre elle contient une paire de nombres. width et height vont être remplacés par la valeur de width et height définie plus haut."
   ]
  },
  {
   "cell_type": "code",
   "execution_count": 9,
   "metadata": {
    "collapsed": false
   },
   "outputs": [
    {
     "name": "stdout",
     "output_type": "stream",
     "text": [
      "(320, 240)\n"
     ]
    }
   ],
   "source": [
    "# affiche le contenu de window_size\n",
    "print( window_size )"
   ]
  },
  {
   "cell_type": "markdown",
   "metadata": {},
   "source": [
    "print affiche les valeurs sous une forme adaptée à sa structure, ici (320, 240)\n",
    "\n",
    "Les parenthèses indiquent que c'est une liste, c'est à dire une suite de valeurs."
   ]
  },
  {
   "cell_type": "markdown",
   "metadata": {},
   "source": [
    "screen est une variable qui est construite par la fonction display de pygame\n",
    "\n",
    "pygame a besoin  d'informations par exemple window_size. Ces informations sont passées par la fonction set_mode"
   ]
  },
  {
   "cell_type": "code",
   "execution_count": 10,
   "metadata": {
    "collapsed": true
   },
   "outputs": [],
   "source": [
    "# défini la zone d'affichage\n",
    "game_surface = pygame.display.set_mode(window_size)"
   ]
  },
  {
   "cell_type": "markdown",
   "metadata": {},
   "source": [
    "game_surface est une variable qui est construite par la fonction display de pygame\n",
    "\n",
    "pygame a besoin  d'informations par exemple window_size. Ces informations sont passées par la fonction set_mode."
   ]
  },
  {
   "cell_type": "code",
   "execution_count": 11,
   "metadata": {
    "collapsed": true
   },
   "outputs": [],
   "source": [
    "time.sleep(5)\n",
    "quit()"
   ]
  },
  {
   "cell_type": "markdown",
   "metadata": {},
   "source": [
    "Si tu lances le programme tu va le voir s'afficher 5 secondes et s'arrêter"
   ]
  },
  {
   "cell_type": "code",
   "execution_count": 1,
   "metadata": {
    "collapsed": false
   },
   "outputs": [],
   "source": [
    "python ball.py"
   ]
  },
  {
   "cell_type": "markdown",
   "metadata": {},
   "source": [
    "## Coder le programme \n",
    "\n",
    "Ouvre l'éditeur de code.\n",
    "\n",
    "Crée un fichier ball.py et copie les lignes de code.\n",
    "\n",
    "Lance le programme en utilisant l'éditeur ou la commande en ligne python ball.py.\n"
   ]
  },
  {
   "cell_type": "markdown",
   "metadata": {},
   "source": [
    "## Modifier le programme étape 1\n",
    "\n",
    "A ce stade tu peux faire quelques changement comme modifier la taille de la fenêtre pour l'adapter à la taille de ton écran."
   ]
  },
  {
   "cell_type": "markdown",
   "metadata": {},
   "source": [
    "# Etape 2\n",
    "\n",
    "Dans l'étape 1, le programme démarrait pour 5 secondes et s'arrêtait. \n",
    "\n",
    "Dans l'étape 2 nous voir comment gérer les événements provoqués par le joueur. On va prendre un cas simple, la sortie pour le bouton de fermeture de la fenêtre.\n",
    "\n",
    "Ce programme est complet et remplace celui de l'étape 1"
   ]
  },
  {
   "cell_type": "code",
   "execution_count": null,
   "metadata": {
    "collapsed": true
   },
   "outputs": [],
   "source": [
    "#\n",
    "# Faire rebondir une balle\n",
    "# 02 - Gérer la sortie du programme\n",
    "#\n",
    "\n",
    "# initialise pygame\n",
    "import pygame\n",
    "pygame.init()\n",
    "\n",
    "# défini la zone d'affichage\n",
    "width = 320\n",
    "height = 240\n",
    "window_size = ( width, height )\n",
    "game_surface = pygame.display.set_mode(window_size)\n",
    "\n",
    "# boucle infinie\n",
    "running = True\n",
    "while running:\n",
    "    for event in pygame.event.get():\n",
    "        # pour le bouton de fermeture de la fenêtre, quitte le programme\n",
    "        if event.type == pygame.QUIT:\n",
    "          running = False\n"
   ]
  },
  {
   "cell_type": "markdown",
   "metadata": {},
   "source": [
    "## Etude du programme étape 2\n",
    "\n",
    "Certaines parties sont identiques par rapport à l'étape précédente et ne sont pas rappellées."
   ]
  },
  {
   "cell_type": "markdown",
   "metadata": {},
   "source": [
    "Un jeu nécessite en général de gérer des interactions avec le joueur.\n",
    "\n",
    "Lorsque le joueur utilise le clavier ou les boutons de la fenêtre, l'ordinateur envoie des messages au programme. \n",
    "\n",
    "Ces messages s'appellent des évèvements et les programmes de ce type utilisent une boucle d'événement pour les attraper et les traiter.\n",
    "\n",
    "Dans notre exemple, 1 type d'évenement est traités \n",
    "- la fermeture de la fenêtre et l'arrêt du jeu\n",
    "\n",
    "D'autres événements sont gérés par un moyen similaire\n",
    "- les touches flèche pour déplacer la balle\n",
    "- les déplacements de la souris et les boutons\n"
   ]
  },
  {
   "cell_type": "markdown",
   "metadata": {},
   "source": [
    "Les messages arrivent tout le temps. PyGame va les collecter, les mettre en file d'attente et les enverra lorsqu'on demande les évenéments arrivés.\n",
    "\n",
    "Le programme fait une suite d'opérations dans une boucle :\n",
    "- lire un événement\n",
    "- traiter cet événement \n",
    "- réafficher pour montrer le résultat\n",
    "\n",
    "Cette boucle s'arrête lorsque le jeu détermine que la partie est terminée ou lorsque le joueur ferme la fenêtre."
   ]
  },
  {
   "cell_type": "markdown",
   "metadata": {},
   "source": [
    "La partie qui nous intéresse est ici"
   ]
  },
  {
   "cell_type": "code",
   "execution_count": null,
   "metadata": {
    "collapsed": true
   },
   "outputs": [],
   "source": [
    "# boucle infinie\n",
    "running = True\n",
    "while running:\n",
    "    for event in pygame.event.get():\n",
    "        # pour le bouton de fermeture de la fenêtre, quitte le programme\n",
    "        if event.type == pygame.QUIT:\n",
    "          running = False\n"
   ]
  },
  {
   "cell_type": "markdown",
   "metadata": {},
   "source": [
    "Cette section contient ce qu'on appelle la boucle d'événement. C'est là que tout va se passer."
   ]
  },
  {
   "cell_type": "code",
   "execution_count": null,
   "metadata": {
    "collapsed": true
   },
   "outputs": [],
   "source": [
    "running = True\n",
    "while running:\n",
    "    ...\n",
    "              running = False\n"
   ]
  },
  {
   "cell_type": "markdown",
   "metadata": {},
   "source": [
    "while est une instruction de boucle. Elle signifie Tant que. \n",
    "\n",
    "Le programme va continuer tant que la condition running reste vrai. \n",
    "\n",
    "- Elle est vrai au départ parce que running est initialisé à True (vrai). \n",
    "- Plus tard cette variable va passer à False (faux) et là le programme s'arrêtera.\n",
    "\n",
    "running est une variable de type booléen, c'est à dire quelle n'a que 2 valeurs True ou False. \n",
    "\n",
    "Ce type de variable est utilisé lorsque l'on a besoin de condition, pour déterminer si on continu ou dans quelle partie du code on doit aller après."
   ]
  },
  {
   "cell_type": "code",
   "execution_count": null,
   "metadata": {
    "collapsed": true
   },
   "outputs": [],
   "source": [
    "    for event in pygame.event.get():"
   ]
  },
  {
   "cell_type": "markdown",
   "metadata": {},
   "source": [
    "pygame.event.get() est une fonction qui retourne la liste des événements en file d'attente."
   ]
  },
  {
   "cell_type": "markdown",
   "metadata": {},
   "source": [
    "<b>for</b> est une instruction qui permet aussi de faire une boucle mais différemment de while. \n",
    "\n",
    "<b>while</b> attend une condition. <b>for</b> va faire une boucle pour un certain nombre de fois, ou pour chaque éléments d'une liste.\n",
    "\n",
    "<b>for event in pygame.event.get()</b> permet de parcourir toute la liste et pour chaque élément de la liste on pourra utiliser event pour représenter cet événement.\n",
    "\n",
    "<b>event</b> est un objet. Un objet représente un concept ou un élément que l'on peut manipuler dans le jeu.\n",
    "\n",
    "Un objet a un contenu (par exemple le type de l'objet). On parle plutôt d'attributs dans ce cas. Les attributs sont obtenus en écrivant < nom l'objet > . < nom de l'attribut >.\n",
    "\n",
    "Un objet a aussi des opérations qui permettent de modifier le contenu ou de faire les tâches dont l'objet est responsable. Ce sont des fonctions.\n",
    "\n",
    "Tu peux ajouter un print(event) dans la boucle for pour voir le contenu des énénements reçus."
   ]
  },
  {
   "cell_type": "code",
   "execution_count": null,
   "metadata": {
    "collapsed": true
   },
   "outputs": [],
   "source": [
    "        # pour le bouton de fermeture de la fenêtre, quitte le programme\n",
    "        if event.type == pygame.QUIT:\n",
    "          running = False"
   ]
  },
  {
   "cell_type": "markdown",
   "metadata": {},
   "source": [
    "<b>if</b> permet de vérifier si la condition qui suit est vrai et entrer dans cette partie du code si c'est le cas.\n",
    "\n",
    "La condition testée est event.type == pygame.QUIT\n",
    "\n",
    "- <b>event.type</b> indique qu'on veut lire la valeur \"type\" dans l'événement\n",
    "\n",
    "- <b>pygame.QUIT</b> indique une valeur qui correspond à cet évenement. \n",
    "\n",
    "- <b>==</b> indique que l'on veur comparer les 2 valeurs. \n",
    "\n",
    "Attention: \n",
    "\n",
    "- = signifie que l'on veut que la variable qui est à gauche du = reçoive la valeur qui est à droite du =. \n",
    "\n",
    "- == signifie qu'on veut vérifier que les valeurs sont égales. Le résultat est une variable que contient vrai ou faux (True ou False) et qu'on appelle un booléen.\n",
    "\n",
    "QUIT est en majuscule parce que c'est une constante définie dans le module pygame. Sa valeur ne change pas (ici c'est 12). Une constante s'utilise comme une variable, à la différence que sa valeur ne peut être définie qu'une seule fois.\n",
    "\n",
    "Si la condition est vrai, la fin du programme est demandées en changeant running pour False."
   ]
  },
  {
   "cell_type": "markdown",
   "metadata": {},
   "source": [
    "## Coder le programme de l'étape 2\n",
    "\n",
    "Ouvre l'éditeur de code.\n",
    "\n",
    "Crée un fichier ball.py et copie les lignes de code.\n",
    "\n",
    "Lance le programme en utilisant l'éditeur ou la commande en ligne python ball.py.\n"
   ]
  },
  {
   "cell_type": "markdown",
   "metadata": {},
   "source": [
    "# Etape 3\n",
    "\n",
    "Dans l'étape 3 nous voir comment ajouter un fond et une image.\n",
    "\n",
    "Ce programme est complet et remplace celui de l'étape 2"
   ]
  },
  {
   "cell_type": "code",
   "execution_count": null,
   "metadata": {
    "collapsed": true
   },
   "outputs": [],
   "source": [
    "#\n",
    "# Faire rebondir une balle\n",
    "# 03 - Afficher la balle\n",
    "#\n",
    "\n",
    "# initialise pygame\n",
    "import pygame\n",
    "pygame.init()\n",
    "\n",
    "# défini la zone d'affichage\n",
    "width = 320\n",
    "height = 240\n",
    "window_size = ( width, height )\n",
    "game_surface = pygame.display.set_mode(window_size)\n",
    "\n",
    "# défini la couleur noire pour le fond\n",
    "color_black = ( 0, 0, 0 )\n",
    "\n",
    "# charge l'image de la balle\n",
    "ball_image = pygame.image.load(\"ball.bmp\")\n",
    "ball_rect = ball_image.get_rect()\n",
    "\n",
    "# boucle infinie\n",
    "running = True\n",
    "while running:\n",
    "    for event in pygame.event.get():\n",
    "        # pour le bouton de fermeture de la fenêtre, quitte le programme\n",
    "        if event.type == pygame.QUIT:\n",
    "          running = False\n",
    "\n",
    "    # reaffiche le fond et la balle\n",
    "    game_surface.fill(color_black)\n",
    "    game_surface.blit(ball_image, ball_rect)\n",
    "    pygame.display.flip()\n"
   ]
  },
  {
   "cell_type": "markdown",
   "metadata": {},
   "source": [
    "## Etude du programme étape 3\n",
    "\n",
    "Certaines parties sont identiques par rapport à l'étape précédante et ne sont pas rappellées."
   ]
  },
  {
   "cell_type": "code",
   "execution_count": null,
   "metadata": {
    "collapsed": true
   },
   "outputs": [],
   "source": [
    "# défini la couleur noire pour le fond\n",
    "color_black = ( 0, 0, 0 )"
   ]
  },
  {
   "cell_type": "markdown",
   "metadata": {},
   "source": [
    "Pour l'affichage sur écran les couleurs sont définies par 3 nombres.\n",
    "\n",
    "Ces nombres représentent la quantité de rouge (R), de vert (G), de bleu (B). Ce code s'appelle RGB.\n",
    "\n",
    "La valeur minimale est 0 (pas de lumière) et le maximum est 255 (maximum de lumière)\n",
    "\n",
    "Par exemple, 255 255 255 représente du blanc, 255 0 0 représente du rouge vif. 0 0 0 est une absence de lumière donc du noir"
   ]
  },
  {
   "cell_type": "code",
   "execution_count": null,
   "metadata": {
    "collapsed": true
   },
   "outputs": [],
   "source": [
    "# charge l'image de la balle\n",
    "ball_image = pygame.image.load(\"ball.bmp\")\n",
    "ball_rect = ball_image.get_rect()"
   ]
  },
  {
   "cell_type": "markdown",
   "metadata": {},
   "source": [
    "load est une fonction du module image qui change un fichier image (ici ball.bmp)\n",
    "\n",
    "ball.get_rect() permet d'obtenir les dimensions de l'image chargée\n",
    "\n"
   ]
  },
  {
   "cell_type": "code",
   "execution_count": null,
   "metadata": {
    "collapsed": true
   },
   "outputs": [],
   "source": [
    "    # reaffiche le fond et la balle\n",
    "    game_surface.fill(color_black)\n",
    "    game_surface.blit(ball_image, ball_rect)\n",
    "    pygame.display.flip()\n"
   ]
  },
  {
   "cell_type": "markdown",
   "metadata": {},
   "source": [
    "<b>game_surface.fill</b> est une fonction de l'objet Surface qui rempli la surface avec la couleur passée en paramètre.\n",
    "\n",
    "Ici on l'utilise pour repeindre le fond."
   ]
  },
  {
   "cell_type": "markdown",
   "metadata": {},
   "source": [
    "<b>game_surface.blit</b> est une fonction de l'objet Surface qui copie l'image de la balle dans le rectangle défini par ball_rect"
   ]
  },
  {
   "cell_type": "markdown",
   "metadata": {},
   "source": [
    "Ces modifications sont faites sur une zone non visible pour éviter qu'on voit le dessin en cours\n",
    "\n",
    "<b>flip</b> copie l'objet Surface copié sur l'écran\n",
    "\n",
    "Cette ligne doit être à la fin du dessin, après TOUTES les instructions d'affichage"
   ]
  },
  {
   "cell_type": "markdown",
   "metadata": {},
   "source": [
    "## Coder le programme de l'étape 3\n",
    "\n",
    "Ouvre l'éditeur de code.\n",
    "\n",
    "Crée un fichier ball.py et copie les lignes de code.\n",
    "\n",
    "Lance le programme en utilisant l'éditeur ou la commande en ligne python ball.py.\n",
    "\n"
   ]
  },
  {
   "cell_type": "markdown",
   "metadata": {},
   "source": [
    "## Modifier le programme étape 3\n",
    "\n",
    "A ce stade tu peux changer les couleurs ou les images.\n",
    "\n",
    "Le programme a besoin d'une image au format .bmp (Bitmap) ou PNG dans le même dossier que le programme. Tu peux copier d'autres images ou en fabriquer avec Gimp."
   ]
  },
  {
   "cell_type": "markdown",
   "metadata": {},
   "source": [
    "# Etape 4\n",
    "\n",
    "Dans l'étape 4 nous voir comment déplacer la balle.\n",
    "\n",
    "Ce programme est complet et remplace celui de l'étape 3"
   ]
  },
  {
   "cell_type": "code",
   "execution_count": null,
   "metadata": {
    "collapsed": true
   },
   "outputs": [],
   "source": [
    "#\n",
    "# Faire rebondir une balle\n",
    "# 04 - Déplacer la balle\n",
    "#\n",
    "\n",
    "# initialise pygame\n",
    "import pygame\n",
    "pygame.init()\n",
    "\n",
    "# défini la zone d'affichage\n",
    "width = 320\n",
    "height = 240\n",
    "window_size = ( width, height )\n",
    "game_surface = pygame.display.set_mode(window_size)\n",
    "\n",
    "# défini la couleur noire pour le fond\n",
    "color_black = ( 0, 0, 0 )\n",
    "\n",
    "# charge l'image de la balle\n",
    "ball_image = pygame.image.load(\"ball.bmp\")\n",
    "ball_rect = ball_image.get_rect()\n",
    "\n",
    "# boucle infinie\n",
    "running = True\n",
    "while running:\n",
    "    for event in pygame.event.get():\n",
    "        # pour le bouton de fermeture de la fenêtre, quitte le programme\n",
    "        if event.type == pygame.QUIT:\n",
    "          running = False\n",
    "\n",
    "    # recalcule la position\n",
    "    ball_rect = ball_rect.move( [2, 1] )\n",
    "\n",
    "    # reaffiche le fond et la balle\n",
    "    game_surface.fill(color_black)\n",
    "    game_surface.blit(ball_image, ball_rect)\n",
    "    pygame.display.flip()\n"
   ]
  },
  {
   "cell_type": "markdown",
   "metadata": {},
   "source": [
    "## Etude du programme étape 4\n",
    "\n",
    "Certaines parties sont identiques par rapport à l'étape précédente et ne sont pas rappellées."
   ]
  },
  {
   "cell_type": "markdown",
   "metadata": {},
   "source": [
    "Pour déplacer la balle, on ca simplement modifier son rectangle d'affichage"
   ]
  },
  {
   "cell_type": "code",
   "execution_count": null,
   "metadata": {
    "collapsed": true
   },
   "outputs": [],
   "source": [
    "    # recalcule la position\n",
    "    ball_rect = ball_rect.move( [2, 1] )"
   ]
  },
  {
   "cell_type": "markdown",
   "metadata": {},
   "source": [
    "Ce rectangje a été obtenu par la fonction get_rect() de l'image.\n",
    "\n",
    "Cet objet a divers attributs qui permettent d'obtenir sa position :\n",
    "- x,y : qui définissent les coordonnées d'affichage du coin en haut à gauche du rectangle dans la surface game_surface. x est la position horizontale. y est la position verticale. Dans PyGame, le coin en haut à gauche de la surface est 0, 0 et les coordonnées sont croissantes vers la droite et le bas  \n",
    "- w,h, width, height : qui définissent sa largeur (width ou w) et sa hauteur (height ou h)\n",
    "- size : renvoie un couple width et  height\n",
    "- center, topleft, bottomleft, topright, bottomright : renvoient un point de coordonnées (x, y)\n",
    "- centerx, centery, midtop, midleft, midbottom, midright : renvoient aussi des points de coordonnées (x, y)\n",
    "- top, left, bottom, right : renvoient une valeur de x (left, right) ou y (top, bottom)\n",
    "\n",
    "\n",
    "Cet objet a aussi des opérations comme move qui permet de déplacer le rectangle de l'image par rapport à la Surface. \n",
    "\n",
    "Le paramètre passé à move est un vecteur (x, y) du déplacement à effectuer. Ici à chaque passage dans la boucle l'image est déplacée de 2 pixels vers à droite (x+2) et 1 pixel vers le bas (y+2).\n",
    "\n",
    "collidepoint, colliderect qui renvoie True ou False et permettent de vérifier si un rectangle contient un autre point ou rectangle et qui seront utilisés pour la détecion de collision entre objets de la scène."
   ]
  },
  {
   "cell_type": "markdown",
   "metadata": {},
   "source": [
    "## Coder le programme de l'étape 4\n",
    "\n",
    "Ouvre l'éditeur de code.\n",
    "\n",
    "Crée un fichier ball.py et copie les lignes de code.\n",
    "\n",
    "Lance le programme en utilisant l'éditeur ou la commande en ligne python ball.py.\n"
   ]
  },
  {
   "cell_type": "markdown",
   "metadata": {},
   "source": [
    "## Modifier le programme étape 4\n",
    "\n",
    "A ce stade tu peux changer le sens de déplacement et la vitesse."
   ]
  },
  {
   "cell_type": "markdown",
   "metadata": {},
   "source": [
    "# Etape 5\n",
    "\n",
    "Dans l'étape 5 nous voir comment faire rebondir la balle.\n",
    "\n",
    "Ce programme est complet et remplace celui de l'étape 4"
   ]
  },
  {
   "cell_type": "code",
   "execution_count": null,
   "metadata": {
    "collapsed": true
   },
   "outputs": [],
   "source": [
    "#\n",
    "# Faire rebondir une balle\n",
    "# 05 - Gérer le rebond\n",
    "#\n",
    "\n",
    "# initialise pygame\n",
    "import pygame\n",
    "pygame.init()\n",
    "\n",
    "# défini la zone d'affichage\n",
    "width = 320\n",
    "height = 240\n",
    "window_size = ( width, height )\n",
    "game_surface = pygame.display.set_mode(window_size)\n",
    "\n",
    "# défini la couleur noire pour le fond\n",
    "color_black = ( 0, 0, 0 )\n",
    "\n",
    "# charge l'image de la balle\n",
    "ball_image = pygame.image.load(\"ball.bmp\")\n",
    "ball_rect = ball_image.get_rect()\n",
    "\n",
    "# initialise le vecteur de déplacement\n",
    "ball_speed = [5, 5]\n",
    "X = 0\n",
    "Y = 1\n",
    "\n",
    "# boucle infinie\n",
    "running = True\n",
    "while running:\n",
    "    for event in pygame.event.get():\n",
    "        # pour le bouton de fermeture de la fenêtre, quitte le programme\n",
    "        if event.type == pygame.QUIT:\n",
    "          running = False\n",
    "\n",
    "    # recalcule la position\n",
    "    ball_rect = ball_rect.move(ball_speed)\n",
    "\n",
    "    # rebond sur les bords gauche et droit\n",
    "    if ball_rect.left < 0 or ball_rect.right > width:\n",
    "        ball_speed[X] = -ball_speed[X]\n",
    "\n",
    "    # rebond sur les bords haut et bas\n",
    "    if ball_rect.top < 0 or ball_rect.bottom > height:\n",
    "        ball_speed[Y] = -ball_speed[Y]\n",
    "\n",
    "    # reaffiche le fond et la balle\n",
    "    game_surface.fill(color_black)\n",
    "    game_surface.blit(ball_image, ball_rect)\n",
    "    pygame.display.flip()\n"
   ]
  },
  {
   "cell_type": "markdown",
   "metadata": {},
   "source": [
    "## Etude du programme étape 5\n",
    "\n",
    "Certaines parties sont identiques par rapport à l'étape précédente et ne sont pas rappellées."
   ]
  },
  {
   "cell_type": "code",
   "execution_count": null,
   "metadata": {
    "collapsed": true
   },
   "outputs": [],
   "source": [
    "Le déplacement est similaire mais on va calculer le déplacement à chaque étape."
   ]
  },
  {
   "cell_type": "code",
   "execution_count": null,
   "metadata": {
    "collapsed": true
   },
   "outputs": [],
   "source": [
    "# initialise le vecteur de déplacement\n",
    "ball_speed = [5, 5]\n"
   ]
  },
  {
   "cell_type": "markdown",
   "metadata": {},
   "source": [
    "Le déplacement est défini par un vecteur. Au départ, la balle se déplace de 5 pixels en x et y à chaque passage dans la boucle de programme.\n",
    "\n",
    "Dans ce vecteur \n",
    "- la première valeur ball_speed[0] représente x\n",
    "- la deuxième valeur ball_speed[1] représente y\n",
    "\n",
    "ball_speed est un tableau. Dans un tableau les valeurs sont accessibles par leur position et la première position est 0."
   ]
  },
  {
   "cell_type": "code",
   "execution_count": null,
   "metadata": {
    "collapsed": true
   },
   "outputs": [],
   "source": [
    "X = 0\n",
    "Y = 1"
   ]
  },
  {
   "cell_type": "markdown",
   "metadata": {},
   "source": [
    "X et Y sont définis pour rendre le programme plus lisible. \n",
    "- ball_speed[X]\n",
    "- ball_speed[Y]\n",
    "\n",
    "X et Y sont des constantes (leur valeur ne changera jamais) qui désignent la position 0 et 1 de manière plus lisible."
   ]
  },
  {
   "cell_type": "code",
   "execution_count": null,
   "metadata": {
    "collapsed": true
   },
   "outputs": [],
   "source": [
    "    # recalcule la position\n",
    "    ball_rect = ball_rect.move(ball_speed)"
   ]
  },
  {
   "cell_type": "markdown",
   "metadata": {},
   "source": [
    "Le déplacement n'est plus écrit en dur. Il est passé par une variable que l'on pourra modifier.\n",
    "\n",
    "Lorsque la balle touche le bord, le vecteur de déplacement est modifié\n",
    "- sur les bords gauche et droit, le rebond inverse la vitesse horizonale\n",
    "- sur les bords gauche et droit, le rebond inverse la vitesse verticale \n",
    "\n",
    "Le bord est touché quand la valeur correspond à 0 ou la valeur maximale\n",
    "- à gauche le minimum est 0\n",
    "- à droite le maximum est width\n",
    "- en haut le minimum est 0\n",
    "- en bas le maximum est height\n",
    "\n"
   ]
  },
  {
   "cell_type": "code",
   "execution_count": null,
   "metadata": {
    "collapsed": true
   },
   "outputs": [],
   "source": [
    "    # rebond sur les bords gauche et droit\n",
    "    if ball_rect.left < 0 or ball_rect.right > width:\n",
    "        ball_speed[X] = -ball_speed[X]\n",
    "\n",
    "    # rebond sur les bords haut et bas\n",
    "    if ball_rect.top < 0 or ball_rect.bottom > height:\n",
    "        ball_speed[Y] = -ball_speed[Y]\n"
   ]
  },
  {
   "cell_type": "markdown",
   "metadata": {},
   "source": [
    "Les deux conditions <b>if</b> utilisent le mot <b>or</b> pour vérifier que l'une ou l'autre des conditions est atteinte.\n",
    "\n",
    "Il existe aussi le mot <b>and</b> si l'on veut vérifier que toutes les conditions sont atteintes."
   ]
  }
 ],
 "metadata": {
  "anaconda-cloud": {},
  "kernelspec": {
   "display_name": "Python 3",
   "language": "python",
   "name": "python3"
  },
  "language_info": {
   "codemirror_mode": {
    "name": "ipython",
    "version": 3
   },
   "file_extension": ".py",
   "mimetype": "text/x-python",
   "name": "python",
   "nbconvert_exporter": "python",
   "pygments_lexer": "ipython3",
   "version": "3.5.2"
  }
 },
 "nbformat": 4,
 "nbformat_minor": 1
}
