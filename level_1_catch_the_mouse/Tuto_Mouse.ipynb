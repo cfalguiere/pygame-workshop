{
 "cells": [
  {
   "cell_type": "markdown",
   "metadata": {
    "collapsed": true
   },
   "source": [
    "# Catch the mouse"
   ]
  },
  {
   "cell_type": "markdown",
   "metadata": {},
   "source": [
    "Le but de cette démo est de montrer comment utiliser la souris.\n",
    "\n",
    "Le jeu fonctionne de la manière suivante :\n",
    "- si on clique en dehors de l'image de la souris, la souris se déplace jusqu'à l'endroit où on a cliqué\n",
    "- si on clique sur l'image de la souris, la souris s'éloigne"
   ]
  },
  {
   "cell_type": "markdown",
   "metadata": {},
   "source": [
    "On va faire le code en plusieurs étapes.\n",
    "- Dans un premier temps, on va voir comment déplacer l'image de la souris avec la souris\n",
    "- Ensuite, on verra comment détecter que l'on clique sur la souris \n",
    "- Puis on verra comment la faire fuir"
   ]
  },
  {
   "cell_type": "markdown",
   "metadata": {},
   "source": [
    "# Etape 1\n",
    "\n",
    "Dans cette démo, on va déplacer l'image avec la souris."
   ]
  },
  {
   "cell_type": "markdown",
   "metadata": {},
   "source": [
    "## Présentation du programme"
   ]
  },
  {
   "cell_type": "markdown",
   "metadata": {},
   "source": [
    "Pour déplacer la balle avec la souris, on va\n",
    "- détecter l'évenement souris\n",
    "- relever la position de la souris\n",
    "- placer la balle à cette position"
   ]
  },
  {
   "cell_type": "code",
   "execution_count": 2,
   "metadata": {
    "collapsed": true
   },
   "outputs": [],
   "source": [
    "# initialise pygame\n",
    "import sys, pygame\n",
    "pygame.init()\n",
    "\n",
    "# défini le canvas d'affichage et les couleurs\n",
    "window_size = width, height = 320, 240\n",
    "i_hor = 0\n",
    "i_ver = 1\n",
    "color_black = ( 0, 0, 0 )\n",
    "screen = pygame.display.set_mode(window_size)\n",
    "\n",
    "# charge l'image de la balle\n",
    "ball = pygame.image.load(\"ball.bmp\")\n",
    "ballrect = ball.get_rect()"
   ]
  },
  {
   "cell_type": "code",
   "execution_count": 6,
   "metadata": {
    "collapsed": false
   },
   "outputs": [],
   "source": [
    "# boucle infinie et gestion de la sortie du programme\n",
    "while True:\n",
    "    for event in pygame.event.get():\n",
    "        # pour le bouton de fermeture de la fenêtre, quitte le programme\n",
    "        if event.type == pygame.QUIT: sys.exit()"
   ]
  },
  {
   "cell_type": "markdown",
   "metadata": {},
   "source": [
    "Si le jouer a bougé la souris on a forcément reçu un évenement de type MOUSEMOTION.\n",
    "Le module qui gère la souris (mouse) connait en permanence la position de la souris.\n",
    "On pourrait la lire en permance, mais il suffit de la lire quand on sait que le joueur a bougé. cela évite des calculs inutiles. La fonction qui permet de lire la position de la souris est get_pos\n",
    "\n",
    "L'image qu'on a chargé est inscrite dans un rectangle qu'on a appelé ballrect (voir un peu plus haut).\n",
    "ballrect est un objet de type Rect. Cet objet a plusieurs attributs et en particulier la position de son centre.\n",
    "lorsqu'on affecte (l'opération =) la position de la souris à ce centre, l'image est déplacée pour que son centre soit à la position de la souris."
   ]
  },
  {
   "cell_type": "code",
   "execution_count": null,
   "metadata": {
    "collapsed": true
   },
   "outputs": [],
   "source": [
    "        # pour la souris\n",
    "        if event.type == pygame.MOUSEMOTION:\n",
    "          ballrect.center = pygame.mouse.get_pos()"
   ]
  },
  {
   "cell_type": "code",
   "execution_count": null,
   "metadata": {
    "collapsed": true
   },
   "outputs": [],
   "source": [
    "    # reaffiche le fond et la balle\n",
    "    screen.fill(color_black)\n",
    "    screen.blit(ball, ballrect)\n",
    "    pygame.display.flip()\n"
   ]
  },
  {
   "cell_type": "markdown",
   "metadata": {},
   "source": [
    "## Coder le programme\n",
    "\n",
    "Ouvre l'éditeur de code.\n",
    "\n",
    "Crée un fichier catch_the_ball.py et copie les lignes de code.\n",
    "\n",
    "Lance le programme en utilisant l'éditeur ou la commande en ligne python catch_the_ball.py."
   ]
  },
  {
   "cell_type": "markdown",
   "metadata": {},
   "source": [
    "## Modifier le programme\n",
    "\n",
    "Modifie le programme pour que la balle fuie la souris quand on clique.\n",
    "\n",
    "Pour cela, on va calculer cette position avant de déplacer la balle lorsqu'il clique.\n",
    "\n",
    "mouse.get_pos retourne un vecteur (x, y). ballrect attend lui aussi un vecteur (x, y). La valeur qu'on calcule sera aussi un vecteur que l'on va construire en modifiant les valeurs.\n",
    "\n"
   ]
  }
 ],
 "metadata": {
  "kernelspec": {
   "display_name": "Python 3",
   "language": "python",
   "name": "python3"
  },
  "language_info": {
   "codemirror_mode": {
    "name": "ipython",
    "version": 3
   },
   "file_extension": ".py",
   "mimetype": "text/x-python",
   "name": "python",
   "nbconvert_exporter": "python",
   "pygments_lexer": "ipython3",
   "version": "3.5.2"
  }
 },
 "nbformat": 4,
 "nbformat_minor": 1
}
